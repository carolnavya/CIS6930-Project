{
 "cells": [
  {
   "cell_type": "code",
   "execution_count": 1,
   "id": "96b5ffc8",
   "metadata": {},
   "outputs": [
    {
     "name": "stderr",
     "output_type": "stream",
     "text": [
      "Loading required package: graph\n",
      "\n",
      "Loading required package: BiocGenerics\n",
      "\n",
      "\n",
      "Attaching package: ‘BiocGenerics’\n",
      "\n",
      "\n",
      "The following objects are masked from ‘package:stats’:\n",
      "\n",
      "    IQR, mad, sd, var, xtabs\n",
      "\n",
      "\n",
      "The following objects are masked from ‘package:base’:\n",
      "\n",
      "    Filter, Find, Map, Position, Reduce, anyDuplicated, append,\n",
      "    as.data.frame, basename, cbind, colnames, dirname, do.call,\n",
      "    duplicated, eval, evalq, get, grep, grepl, intersect, is.unsorted,\n",
      "    lapply, mapply, match, mget, order, paste, pmax, pmax.int, pmin,\n",
      "    pmin.int, rank, rbind, rownames, sapply, setdiff, sort, table,\n",
      "    tapply, union, unique, unsplit, which.max, which.min\n",
      "\n",
      "\n",
      "randomForest 4.7-1\n",
      "\n",
      "Type rfNews() to see new features/changes/bug fixes.\n",
      "\n",
      "\n",
      "Attaching package: ‘randomForest’\n",
      "\n",
      "\n",
      "The following object is masked from ‘package:BiocGenerics’:\n",
      "\n",
      "    combine\n",
      "\n",
      "\n"
     ]
    }
   ],
   "source": [
    "library(Matrix)\n",
    "library(RBGL)\n",
    "library(snow)\n",
    "library(graph)\n",
    "library(randomForest)"
   ]
  },
  {
   "cell_type": "code",
   "execution_count": 2,
   "id": "58af770e",
   "metadata": {},
   "outputs": [
    {
     "data": {
      "text/html": [
       "60"
      ],
      "text/latex": [
       "60"
      ],
      "text/markdown": [
       "60"
      ],
      "text/plain": [
       "[1] 60"
      ]
     },
     "metadata": {},
     "output_type": "display_data"
    }
   ],
   "source": [
    "# Set maximum request time\n",
    "getOption('timeout')\n",
    "options(timeout=100)"
   ]
  },
  {
   "cell_type": "markdown",
   "id": "eaaefd13",
   "metadata": {},
   "source": [
    "# Build a network graph from STRING database\n"
   ]
  },
  {
   "cell_type": "code",
   "execution_count": 3,
   "id": "fe70e334",
   "metadata": {},
   "outputs": [],
   "source": [
    "# Preprocess STRING DATA to generate a network graph\n",
    "build_string_network <- function(data) {\n",
    "    # downloading data if it does not exist in the directory\n",
    "    if(!file.exists(data)){\n",
    "        download.file(url = \"http://version10.string-db.org/download/protein.links.v10/9606.protein.links.v10.txt.gz\",\n",
    "                      destfile = data)\n",
    "    }\n",
    "    \n",
    "    # Reading STRING data\n",
    "    data = read.table(data, stringsAsFactors=F, header=T)\n",
    "    # Cleaning up protein IDs\n",
    "    data[,1] = gsub(\"9606.\" , \"\", data[,1], fixed=T)\n",
    "    data[,2] = gsub(\"9606.\", \"\", data[,2], fixed=T)\n",
    "    # Remove interactions <400\n",
    "    threshold_data = data[data[,3]>400,]\n",
    "    # Build a network graph from the STRING data\n",
    "    string_network = ftM2graphNEL(as.matrix(threshold_data[,1:2]))\n",
    "    # Calculating shortest paths between the protein IDs\n",
    "    shortest_path = johnson.all.pairs.sp(string_network)\n",
    "    save(string_network, shortest_path, file=\"./rData/STRING_network.Rdata\")\n",
    "    return(shortest_path)\n",
    "}"
   ]
  },
  {
   "cell_type": "code",
   "execution_count": 4,
   "id": "f425b352",
   "metadata": {},
   "outputs": [],
   "source": [
    "shortest_path = build_string_network(\"./data/9606.protein.links.v10.txt.gz\")"
   ]
  },
  {
   "cell_type": "markdown",
   "id": "485a29bf",
   "metadata": {},
   "source": [
    "# Build a genewise expression level score matrix from BrainSpan data\n"
   ]
  },
  {
   "cell_type": "code",
   "execution_count": 6,
   "id": "f4812d49",
   "metadata": {},
   "outputs": [],
   "source": [
    "# Preprocess BRAINSPAN DATA to generate a genewise expression matrix\n",
    "build_brainspan_matrix <- function(data) {  \n",
    "    # downloading data if it does not exist in the directory\n",
    "    if(!file.exists(data)){\n",
    "        download.file(url = \"http://www.brainspan.org/api/v2/well_known_file_download/267666529\",\n",
    "                  destfile = data)\n",
    "        unzip(data, exdir = \"./data/brainspan/\")\n",
    "        }\n",
    "    # Reading BRAINSPAN data\n",
    "    expr_matrix = read.table(\"./data/brainspan/expression_matrix.csv\",\n",
    "                   sep=\",\",header=F,stringsAsFactors=F)\n",
    "    annotations = read.table(\"./data/brainspan/rows_metadata.csv\",\n",
    "                     sep=\",\",header=T,stringsAsFactors=F)\n",
    "    fac = read.table(\"./data/brainspan/columns_metadata.csv\",\n",
    "                     sep=\",\",header=T,stringsAsFactors=F)\n",
    "    expr_matrix = as.matrix(expr_matrix[,-1])\n",
    "    \n",
    "    # Using Gene symbols to map missing entrez gene IDs\n",
    "    entrezToSymbol = read.table(\"data/entrezgene2symbol.csv\", sep=\",\", header = T, stringsAsFactors = F)\n",
    "    entrezToSymbol = structure(entrezToSymbol$symbol, names = entrezToSymbol$entrez)\n",
    "    annotations[is.na(annotations$entrez_id),\"entrez_id\"] = names(entrezToSymbol)[match(annotations[is.na(annotations$entrez_id),]$gene_symbol,entrezToSymbol)]\n",
    "    rownames(expr_matrix) = annotations$entrez\n",
    "    \n",
    "    # Convert all ages into weeks\n",
    "    age_col = fac$age\n",
    "    all_age_data = strsplit(age_col,split=\" \")\n",
    "    ageInWeeks = sapply(all_age_data,function(age) {\n",
    "      if(age[2]==\"pcw\") weeks=as.numeric(age[1])*1\n",
    "      if(age[2]==\"mos\") weeks=as.numeric(age[1])*4.33 + 38\n",
    "      if(age[2]==\"yrs\") weeks=as.numeric(age[1])*52 + 38\n",
    "      return(weeks)\n",
    "    }\n",
    "    )\n",
    "    \n",
    "    # Filter for structures found in most samples\n",
    "    strucs = fac$structure_acronym\n",
    "    most_sample_str = names(table(strucs)[table(strucs)>20])\n",
    "\n",
    "\n",
    "    # Lower number of parallel cores if < 4 available\n",
    "    cluster_obj = makeSOCKcluster(4)\n",
    "\n",
    "    # Smoothing and interpolation of the data\n",
    "    smooth = function(y,x_age){\n",
    "      lw = lowess(log(x_age),y,f=1/3)\n",
    "      approx_est = approx(lw ,\n",
    "                   xout = seq(2, log(2118), length.out = 50),\n",
    "                   rule = 2)\n",
    "      return(approx_est$y)\n",
    "    }\n",
    "    \n",
    "    #initializing expression matrix where the elements represent expression in a brain region\n",
    "    # Rows: timepoints\n",
    "    # Columns: Genes\n",
    "    expr_m = list()\n",
    "\n",
    "    print(\"Generting Expression Matrix...\")\n",
    "    for(idx in 1:length(most_sample_str)){\n",
    "      curr = most_sample_str[idx]\n",
    "      X = expr_matrix[,strucs==curr]\n",
    "      x_age = ageInWeeks[strucs==curr]\n",
    "      expr_m[[idx]] = parApply(cluster_obj,X,1,smooth,x_age)\n",
    "      names(expr_m)[idx] = most_sample_str[idx]\n",
    "      print(idx)\n",
    "    }\n",
    "\n",
    "    # Perform transpose of the matrix\n",
    "    expr_m = lapply(expr_m,t)\n",
    "\n",
    "    # row-bind same genes together to ensure the each gene has only one matrix where\n",
    "    # Rows: Brain regions\n",
    "    # Columns: timepoints\n",
    "    expr_m = parLapply(cluster_obj, 1:nrow(expr_m[[1]]), function(idx, y){\n",
    "      do.call('rbind', lapply(y, function(x) {\n",
    "        x[idx,]\n",
    "      }))\n",
    "    }, expr_m)\n",
    "\n",
    "    # Relabel matrix rows by entrez IDs\n",
    "    names(expr_m) = rownames(expr_matrix)\n",
    "    new_rows = rownames(expr_m[[1]])\n",
    "\n",
    "    # Scaling the expression matrix\n",
    "    scale_func = function(val){\n",
    "      matrix(\n",
    "        scale(as.numeric(val)),\n",
    "        nrow = 16,\n",
    "        ncol = 50,\n",
    "        dimnames = list( rownames(val) , colnames(val) )\n",
    "      )\n",
    "      }\n",
    "\n",
    "    scaled_expr_m = lapply(expr_m,scale_func)\n",
    "    \n",
    "    # Map entrez ID to the ensembl protein ID\n",
    "    enzToEns = read.table(\"data/entrez_gene_id.vs.string.v10.28042015.tsv\",sep=\"\\t\",stringsAsFactors=F)\n",
    "   \n",
    "    # Clean up protein names\n",
    "    enzToEns[,2] = gsub(\"9606.\",\"\",enzToEns[,2],fixed=T)\n",
    "    enzToEns = structure(enzToEns[,2],names=as.character(enzToEns[,1]))\n",
    "\n",
    "    # Vectorizing the scaled gene-wise expression matricies to ensure rows represent genes\n",
    "    genewise_expr = sapply(scaled_expr_m,as.numeric)\n",
    "    genewise_expr = t(genewise_expr)\n",
    "    genewise_expr = genewise_expr[!is.na(rownames(genewise_expr)),]\n",
    "\n",
    "    # Map the missing IDs in the BRAINSPAN data\n",
    "    missing_ids = read.table(\"data/brainspan_missing_ids.txt\",sep=\"\\t\",header=T,stringsAsFactors=F)\n",
    "    missing_ids = missing_ids[missing_ids$Protein.stable.ID%in%rownames(shortest_path),]\n",
    "    missing_ids = missing_ids[!duplicated(missing_ids$NCBI.gene.ID),]\n",
    "    missing_ids = structure(missing_ids$Protein.stable.ID,names=as.character(missing_ids$NCBI.gene.ID))\n",
    "    enzToEns = c(enzToEns,missing_ids)\n",
    "    rownames(genewise_expr) = enzToEns[rownames(genewise_expr)]\n",
    "    colnames(genewise_expr) = 1:800\n",
    "\n",
    "    save(entrezToSymbol, missing_ids, enzToEns, file = \"rData/id_conversion.Rdata\")\n",
    "\n",
    "    # Handling missing values by replacing with Median\n",
    "    genewise_expr = na.roughfix(genewise_expr)\n",
    "    save(genewise_expr, file=\"rData/Genewise_expr_matrix.Rdata\")\n",
    "    return(genewise_expr)\n",
    "    \n",
    "    \n",
    "}"
   ]
  },
  {
   "cell_type": "code",
   "execution_count": 7,
   "id": "feed1946",
   "metadata": {
    "scrolled": true
   },
   "outputs": [
    {
     "name": "stdout",
     "output_type": "stream",
     "text": [
      "[1] \"Generting Expression Matrix...\"\n",
      "[1] 1\n",
      "[1] 2\n",
      "[1] 3\n",
      "[1] 4\n",
      "[1] 5\n",
      "[1] 6\n",
      "[1] 7\n",
      "[1] 8\n",
      "[1] 9\n",
      "[1] 10\n",
      "[1] 11\n",
      "[1] 12\n",
      "[1] 13\n",
      "[1] 14\n",
      "[1] 15\n",
      "[1] 16\n"
     ]
    }
   ],
   "source": [
    "genewise_expr = build_brainspan_matrix(\"./data/genes_matrix_csv.zip\")"
   ]
  },
  {
   "cell_type": "markdown",
   "id": "55c8375e",
   "metadata": {},
   "source": [
    "# Define Training Features"
   ]
  },
  {
   "cell_type": "code",
   "execution_count": 8,
   "id": "fb1423b9",
   "metadata": {},
   "outputs": [],
   "source": [
    "# Getting Training Labels\n",
    "gen_training_labels <- function(shortest_path, genewise_expr) { \n",
    "\n",
    "    # Read SFARI genes and gene IDs data\n",
    "    sfari = read.table(\"data/SFARI-Gene_genes_export01-11-2017.csv\",sep=\",\",header=T,stringsAsFactors=F)\n",
    "    sfari_ids = read.table(\"data/sfari_gene_ids.txt\",sep=\"\\t\",stringsAsFactors=F,header=T)\n",
    "\n",
    "    # Top Genes contains SFARI 1 and 2 genes\n",
    "    top_genes = sfari$gene.symbol[sfari$gene.score %in% c(\"1\",\"2\")]\n",
    "    top_genes = sfari_ids$Protein.stable.ID[sfari_ids$Gene.name %in% top_genes]\n",
    "    top_genes = unique( top_genes[ top_genes %in% rownames(shortest_path) ] )\n",
    "    # Positive gene examples contains top genes that are also present in STRING\n",
    "    pos_genes = rownames(shortest_path)[rownames(shortest_path) %in% top_genes ]\n",
    "    pos_genes = unique(pos_genes)\n",
    "    pos_genes = pos_genes[ !is.na(pos_genes) ]\n",
    "    labels = rownames(shortest_path)[ rownames(shortest_path) %in% rownames(genewise_expr) ]\n",
    "\n",
    "    # Negative gene examples are set as random background genes\n",
    "    set.seed(3716359)\n",
    "    neg_genes = sample(labels[ !(labels %in% sfari_ids$Protein.stable.ID) ] , 1000)\n",
    "\n",
    "    save(pos_genes, neg_genes, file=\"rData/training_labels.Rdata\")\n",
    "\n",
    "}\n"
   ]
  },
  {
   "cell_type": "code",
   "execution_count": 9,
   "id": "0813cabe",
   "metadata": {},
   "outputs": [],
   "source": [
    "gen_training_labels(shortest_path, genewise_expr)"
   ]
  },
  {
   "cell_type": "code",
   "execution_count": null,
   "id": "a963400b",
   "metadata": {},
   "outputs": [],
   "source": []
  }
 ],
 "metadata": {
  "kernelspec": {
   "display_name": "R",
   "language": "R",
   "name": "ir"
  },
  "language_info": {
   "codemirror_mode": "r",
   "file_extension": ".r",
   "mimetype": "text/x-r-source",
   "name": "R",
   "pygments_lexer": "r",
   "version": "4.1.3"
  }
 },
 "nbformat": 4,
 "nbformat_minor": 5
}
