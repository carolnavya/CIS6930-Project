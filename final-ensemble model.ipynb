{
 "cells": [
  {
   "cell_type": "markdown",
   "id": "f1dc98bf",
   "metadata": {},
   "source": [
    "# Final Ensemble Prediction Model"
   ]
  },
  {
   "cell_type": "code",
   "execution_count": 1,
   "id": "3416eb40",
   "metadata": {
    "scrolled": true
   },
   "outputs": [
    {
     "name": "stderr",
     "output_type": "stream",
     "text": [
      "randomForest 4.7-1\n",
      "\n",
      "Type rfNews() to see new features/changes/bug fixes.\n",
      "\n"
     ]
    }
   ],
   "source": [
    "library(randomForest)\n"
   ]
  },
  {
   "cell_type": "code",
   "execution_count": 2,
   "id": "2d886f62",
   "metadata": {},
   "outputs": [
    {
     "name": "stdout",
     "output_type": "stream",
     "text": [
      "ntree      OOB      1      2\n",
      "   10:   6.51%  5.30% 22.67%\n",
      "   20:   4.55%  3.50% 18.42%\n",
      "   30:   4.09%  3.40% 13.16%\n",
      "   40:   4.00%  3.30% 13.16%\n",
      "   50:   4.09%  3.40% 13.16%\n",
      "   60:   3.81%  3.10% 13.16%\n",
      "   70:   3.90%  3.10% 14.47%\n",
      "   80:   4.18%  3.30% 15.79%\n",
      "   90:   3.90%  3.30% 11.84%\n",
      "  100:   4.28%  3.60% 13.16%\n",
      "  110:   4.09%  3.50% 11.84%\n",
      "  120:   4.09%  3.50% 11.84%\n",
      "  130:   4.18%  3.60% 11.84%\n",
      "  140:   4.09%  3.50% 11.84%\n",
      "  150:   4.37%  3.70% 13.16%\n",
      "  160:   4.37%  3.70% 13.16%\n",
      "  170:   4.37%  3.80% 11.84%\n",
      "  180:   4.46%  3.80% 13.16%\n",
      "  190:   4.09%  3.50% 11.84%\n",
      "  200:   4.28%  3.70% 11.84%\n",
      "  210:   4.37%  3.70% 13.16%\n",
      "  220:   4.65%  4.00% 13.16%\n",
      "  230:   4.46%  3.70% 14.47%\n",
      "  240:   4.74%  4.00% 14.47%\n",
      "  250:   4.65%  4.00% 13.16%\n",
      "  260:   4.55%  3.80% 14.47%\n",
      "  270:   4.46%  3.70% 14.47%\n",
      "  280:   4.65%  3.90% 14.47%\n",
      "  290:   4.55%  3.80% 14.47%\n",
      "  300:   4.46%  3.70% 14.47%\n",
      "  310:   4.46%  3.80% 13.16%\n",
      "  320:   4.55%  3.80% 14.47%\n",
      "  330:   4.55%  3.80% 14.47%\n",
      "  340:   4.65%  3.90% 14.47%\n",
      "  350:   4.65%  3.90% 14.47%\n",
      "  360:   4.65%  3.90% 14.47%\n",
      "  370:   4.65%  3.90% 14.47%\n",
      "  380:   4.55%  3.90% 13.16%\n",
      "  390:   4.37%  3.80% 11.84%\n",
      "  400:   4.37%  3.80% 11.84%\n",
      "  410:   4.37%  3.80% 11.84%\n",
      "  420:   4.37%  3.80% 11.84%\n",
      "  430:   4.37%  3.80% 11.84%\n",
      "  440:   4.37%  3.80% 11.84%\n",
      "  450:   4.37%  3.80% 11.84%\n",
      "  460:   4.46%  3.90% 11.84%\n",
      "  470:   4.46%  3.90% 11.84%\n",
      "  480:   4.46%  3.90% 11.84%\n",
      "  490:   4.46%  3.90% 11.84%\n",
      "  500:   4.46%  3.90% 11.84%\n"
     ]
    }
   ],
   "source": [
    "# loading layer 1 model scores and preprocessed data\n",
    "load(\"rData/training_labels.Rdata\")\n",
    "load(\"models/String_score.Rdata\")\n",
    "load(\"models/Brainspan_score.Rdata\")\n",
    "load(\"models/integrated_score.Rdata\")\n",
    "\n",
    "# load metadata containing various predictors and summary statistics scores including DAWN, DAMAGES, and Krishnan et al scores\n",
    "metadata = read.csv(\"data/composite_table.csv\", stringsAsFactors = F, row.names = 1)\n",
    "\n",
    "\n",
    "string_preds = string_preds[rownames(metadata), ]\n",
    "bs_preds = bs_preds[rownames(metadata), ]\n",
    "\n",
    "# Combine other predictors with integrated model scores\n",
    "metadata = cbind(\n",
    "  data.frame(\n",
    "    String_score = string_preds[rownames(metadata) , \"TRUE\"],\n",
    "    BrainSpan_score = bs_preds[rownames(metadata), \"TRUE\"]\n",
    "  ),\n",
    "  metadata[rownames(metadata), ]\n",
    ")\n",
    "\n",
    "\n",
    "# Defining training data\n",
    "# Cleaning training data by removing gene identifiers, etc.\n",
    "metadata_train = na.roughfix(metadata[metadata$ensembl_string %in% c(pos_genes,neg_genes), -(3:9)]) \n",
    "\n",
    "labels = as.factor(rownames(metadata_train) %in% pos_genes)\n",
    "\n",
    "# Training the final ensembl model\n",
    "set.seed(43775)\n",
    "final_model = randomForest(\n",
    "  y = labels,\n",
    "  x = metadata_train, \n",
    "  importance = T,\n",
    "  do.trace = 10,\n",
    "  strata = labels,\n",
    "  sampsize = c(76,76)\n",
    "  )\n",
    "\n",
    "# Defining test data\n",
    "# Cleaning training data by removing gene identifiers, etc.\n",
    "metadata_test = na.roughfix(metadata[!(metadata$ensembl_string %in% c(pos_genes,neg_genes)), -(3:9)]) \n",
    "\n",
    "# Get predictions for test data\n",
    "metadata_preds <- predict(final_model, metadata_test, type = \"prob\")\n",
    "\n",
    "metadata_score <- rbind(final_model$votes, metadata_preds)\n",
    "\n",
    "# Append all the final OOB prediction scores to a data frame\n",
    "final_data <- cbind(\n",
    "  data.frame(\n",
    "    final_prediction_scores = metadata_score[rownames(metadata),\"TRUE\"],\n",
    "    'STRING+BrainSpan_RF' = integrated_preds[rownames(metadata),\"TRUE\"]\n",
    "  ), \n",
    "  metadata\n",
    ")\n",
    "\n",
    "# Save the scores as a csv file\n",
    "write.csv(final_data, \n",
    "          file = \"prediction_scores.csv\",\n",
    "          quote = F, \n",
    "          row.names = F)\n",
    "\n",
    "\n"
   ]
  },
  {
   "cell_type": "code",
   "execution_count": null,
   "id": "0e3c2855",
   "metadata": {},
   "outputs": [],
   "source": []
  }
 ],
 "metadata": {
  "kernelspec": {
   "display_name": "R",
   "language": "R",
   "name": "ir"
  },
  "language_info": {
   "codemirror_mode": "r",
   "file_extension": ".r",
   "mimetype": "text/x-r-source",
   "name": "R",
   "pygments_lexer": "r",
   "version": "4.1.3"
  }
 },
 "nbformat": 4,
 "nbformat_minor": 5
}
