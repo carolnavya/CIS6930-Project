{
 "cells": [
  {
   "cell_type": "markdown",
   "id": "808da196",
   "metadata": {},
   "source": [
    "# This model combines STRING, BrainSpan, and TADA statistics to generate gene-risk prediction scores\n"
   ]
  },
  {
   "cell_type": "code",
   "execution_count": 1,
   "id": "5686fc33",
   "metadata": {},
   "outputs": [
    {
     "name": "stderr",
     "output_type": "stream",
     "text": [
      "randomForest 4.7-1\n",
      "\n",
      "Type rfNews() to see new features/changes/bug fixes.\n",
      "\n"
     ]
    }
   ],
   "source": [
    "library(randomForest)"
   ]
  },
  {
   "cell_type": "code",
   "execution_count": 2,
   "id": "32331039",
   "metadata": {},
   "outputs": [
    {
     "name": "stdout",
     "output_type": "stream",
     "text": [
      "ntree      OOB      1      2\n",
      "   50:  12.45% 11.80% 21.05%\n",
      "  100:  12.83% 12.30% 19.74%\n",
      "  150:  12.73% 12.20% 19.74%\n",
      "  200:  12.36% 11.80% 19.74%\n",
      "  250:  12.45% 11.80% 21.05%\n",
      "  300:  12.17% 11.40% 22.37%\n",
      "  350:  11.99% 11.30% 21.05%\n",
      "  400:  12.17% 11.50% 21.05%\n",
      "  450:  12.27% 11.60% 21.05%\n",
      "  500:  12.27% 11.60% 21.05%\n",
      "  550:  12.36% 11.70% 21.05%\n",
      "  600:  12.27% 11.60% 21.05%\n",
      "  650:  12.17% 11.50% 21.05%\n",
      "  700:  12.08% 11.40% 21.05%\n",
      "  750:  12.27% 11.50% 22.37%\n",
      "  800:  12.36% 11.60% 22.37%\n",
      "  850:  12.27% 11.60% 21.05%\n",
      "  900:  12.27% 11.60% 21.05%\n",
      "  950:  12.17% 11.50% 21.05%\n",
      " 1000:  12.17% 11.50% 21.05%\n",
      "[1] \"Model saved\"\n"
     ]
    }
   ],
   "source": [
    "#load pre-processed data files and layer 1 model scores\n",
    "load(\"rData/training_labels.Rdata\")\n",
    "load(\"rData/id_conversion.Rdata\")\n",
    "load(\"models/Brainspan_score.Rdata\")\n",
    "load(\"models/String_score.Rdata\")\n",
    "\n",
    "# Integrating STRING, BrainSpan and TADA scores\n",
    "common_rows = rownames(string_preds)[rownames(string_preds)%in%rownames(bs_preds)]\n",
    "symbol = entrezToSymbol[names(enzToEns)[match(common_rows,enzToEns)]]\n",
    "\n",
    "\n",
    "\n",
    "x_preds = data.frame(\n",
    "  string = string_preds[common_rows, \"TRUE\"],\n",
    "  brainspan = bs_preds[common_rows, \"TRUE\"]\n",
    "  )\n",
    "\n",
    "x_preds = na.roughfix(x_preds)\n",
    "\n",
    "# all examples as input features\n",
    "x_train = x_preds[rownames(x_preds) %in% c(pos_genes,neg_genes), ]\n",
    "# only positive examples as lables\n",
    "y_train = as.factor(rownames(x_train) %in% pos_genes)\n",
    "\n",
    "# Training a random forest model\n",
    "set.seed(5393)\n",
    "\n",
    "integrated_model = \n",
    "  randomForest(\n",
    "    y = y_train,\n",
    "    x = x_train[,c(\"string\", \"brainspan\")],\n",
    "    importance = T,\n",
    "    strata = y_train,\n",
    "    sampsize = c(76,76),\n",
    "    do.trace = 50,\n",
    "    ntree = 1000)\n",
    "\n",
    "# get all remaining predictions\n",
    "integrated_preds = predict(integrated_model,\n",
    "                          x_preds[!rownames(x_preds) %in% rownames(integrated_model$votes), c(\"string\", \"brainspan\")],\n",
    "                          type=  \"prob\")\n",
    "integrated_preds = rbind(integrated_preds, integrated_model$votes)\n",
    "\n",
    "# save the integrated score model\n",
    "save(integrated_model, integrated_preds, file=\"models/integrated_score.Rdata\")\n",
    "print(\"Model saved\")"
   ]
  },
  {
   "cell_type": "code",
   "execution_count": null,
   "id": "ac3350da",
   "metadata": {},
   "outputs": [],
   "source": []
  }
 ],
 "metadata": {
  "kernelspec": {
   "display_name": "R",
   "language": "R",
   "name": "ir"
  },
  "language_info": {
   "codemirror_mode": "r",
   "file_extension": ".r",
   "mimetype": "text/x-r-source",
   "name": "R",
   "pygments_lexer": "r",
   "version": "4.1.3"
  }
 },
 "nbformat": 4,
 "nbformat_minor": 5
}
